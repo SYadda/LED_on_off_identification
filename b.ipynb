{
 "cells": [
  {
   "cell_type": "code",
   "execution_count": 7,
   "metadata": {},
   "outputs": [],
   "source": [
    "import cv2\n",
    "import numpy as np\n",
    "from matplotlib import pyplot as plt"
   ]
  },
  {
   "cell_type": "code",
   "execution_count": 10,
   "metadata": {},
   "outputs": [],
   "source": [
    "def is_light_up(img): \n",
    "    img_gray = cv2.cvtColor(img, cv2.COLOR_BGR2GRAY)\n",
    "    # circles = cv2.HoughCircles(img_gray, cv2.HOUGH_GRADIENT, 1, 200, param1=10, param2=90, minRadius=75, maxRadius=125) # 0 and 1\n",
    "    # circles = cv2.HoughCircles(img_gray, cv2.HOUGH_GRADIENT, 1, 200, param1=40, param2=60, minRadius=60, maxRadius=100) # 00 and 000 and 11\n",
    "    circles = cv2.HoughCircles(img_gray, cv2.HOUGH_GRADIENT, 1, 200, param1=20, param2=40, minRadius=50, maxRadius=60) # h0 and h1\n",
    "\n",
    "\n",
    "\n",
    "    # 如果检测到圆形，则在原图上绘制圆形\n",
    "    if circles is not None and circles[0] is not None:\n",
    "        circles = np.uint16(np.around(circles))\n",
    "        # 绘制圆轮廓\n",
    "        for i in circles[0, :]:\n",
    "            # print(i[0], i[1]) 查看圆心坐标\n",
    "            # if 1300 < i[0] and i[0] < 1450 and 625 < i[1] and i[1] < 750:\n",
    "            cv2.circle(img, (i[0], i[1]), i[2], (255, 0, 0), 10)\n",
    "\n",
    "            # 计算圆形区域的平均灰度值\n",
    "            mask = np.zeros_like(img_gray)\n",
    "            cv2.circle(mask, (i[0], i[1]), i[2], (255, 255, 255), thickness=-1)\n",
    "            circle_pixels = cv2.bitwise_and(img_gray, img_gray, mask=mask)\n",
    "            mean_val = np.mean(circle_pixels[circle_pixels > 0])\n",
    "\n",
    "            # 若mean_val > 150，则认为灯亮，在圆心绘制蓝色的数字“1”，否则绘制蓝色的数字“0”\n",
    "            hori_offset = 15 # 水平偏移量\n",
    "            vert_offset = 5 # 垂直偏移量\n",
    "\n",
    "            if mean_val > 150:\n",
    "                cv2.putText(img, '1', (i[0] - hori_offset, i[1] + vert_offset), cv2.FONT_HERSHEY_SIMPLEX, 2, (255, 0, 0), 5)\n",
    "            else:\n",
    "                cv2.putText(img, '0', (i[0] - hori_offset, i[1] + vert_offset), cv2.FONT_HERSHEY_SIMPLEX, 2, (255, 0, 0), 5)\n",
    "\n",
    "            # plt.imshow(cv2.cvtColor(img, cv2.COLOR_BGR2RGB))\n",
    "            # plt.show()\n",
    "            return img\n",
    "\n",
    "# cap = cv2.VideoCapture('video.mp4')\n",
    "cap = cv2.VideoCapture('hvideo.mp4')\n",
    "frame_width = int(cap.get(3))\n",
    "frame_height = int(cap.get(4))\n",
    "out = cv2.VideoWriter('output.mp4', cv2.VideoWriter_fourcc(*'mp4v'), cap.get(cv2.CAP_PROP_FPS)/2, (frame_width, frame_height))\n",
    "\n",
    "while True:\n",
    "    ret, frame = cap.read()\n",
    "    if not ret:\n",
    "        break  # 如果没有帧了，就退出循环\n",
    "    out.write(is_light_up(frame))\n",
    "cap.release()\n",
    "out.release()"
   ]
  },
  {
   "cell_type": "code",
   "execution_count": null,
   "metadata": {},
   "outputs": [],
   "source": []
  }
 ],
 "metadata": {
  "kernelspec": {
   "display_name": "Python 3",
   "language": "python",
   "name": "python3"
  },
  "language_info": {
   "codemirror_mode": {
    "name": "ipython",
    "version": 3
   },
   "file_extension": ".py",
   "mimetype": "text/x-python",
   "name": "python",
   "nbconvert_exporter": "python",
   "pygments_lexer": "ipython3",
   "version": "3.12.4"
  }
 },
 "nbformat": 4,
 "nbformat_minor": 2
}
